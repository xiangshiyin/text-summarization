{
 "cells": [
  {
   "cell_type": "markdown",
   "id": "e44aa5d5",
   "metadata": {},
   "source": [
    "# step 1: preprocess"
   ]
  },
  {
   "cell_type": "code",
   "execution_count": 1,
   "id": "eb1b79c6",
   "metadata": {},
   "outputs": [],
   "source": [
    "from talon.signature.bruteforce import extract_signature\n",
    "\n",
    "def preprocess(emails):\n",
    "    \"\"\"\n",
    "    Performs preprocessing operations such as:\n",
    "        1. Removing signature lines (only English emails are supported)\n",
    "        2. Removing new line characters.\n",
    "    \"\"\"\n",
    "    n_emails = len(emails)\n",
    "    for i in range(n_emails):\n",
    "        email = emails[i]\n",
    "        email, _ = extract_signature(email)\n",
    "        lines = email.split('\\n')\n",
    "        for j in reversed(range(len(lines))):\n",
    "            lines[j] = lines[j].strip()\n",
    "            if lines[j] == '':\n",
    "                lines.pop(j)\n",
    "        emails[i] = ' '.join(lines)"
   ]
  },
  {
   "cell_type": "code",
   "execution_count": 2,
   "id": "f57072c8",
   "metadata": {},
   "outputs": [],
   "source": [
    "emails = [\n",
    "    \"\"\"\n",
    "Hi Jane,\n",
    "\n",
    "Thank you for keeping me updated on this issue. I'm happy to hear that the issue got resolved after all and you can now use the app in its full functionality again. \n",
    "Also many thanks for your suggestions. We hope to improve this feature in the future. \n",
    "\n",
    "In case you experience any further problems with the app, please don't hesitate to contact me again.\n",
    "\n",
    "Best regards,\n",
    "\n",
    "John Doe\n",
    "Customer Support\n",
    "\n",
    "1600 Amphitheatre Parkway\n",
    "Mountain View, CA\n",
    "United States\n",
    "    \"\"\"\n",
    "] \n",
    "\n",
    "# preprocess(emails)"
   ]
  },
  {
   "cell_type": "code",
   "execution_count": 3,
   "id": "ad322e23",
   "metadata": {},
   "outputs": [
    {
     "data": {
      "text/plain": [
       "[\"\\nHi Jane,\\n\\nThank you for keeping me updated on this issue. I'm happy to hear that the issue got resolved after all and you can now use the app in its full functionality again. \\nAlso many thanks for your suggestions. We hope to improve this feature in the future. \\n\\nIn case you experience any further problems with the app, please don't hesitate to contact me again.\\n\\nBest regards,\\n\\nJohn Doe\\nCustomer Support\\n\\n1600 Amphitheatre Parkway\\nMountain View, CA\\nUnited States\\n    \"]"
      ]
     },
     "execution_count": 3,
     "metadata": {},
     "output_type": "execute_result"
    }
   ],
   "source": [
    "emails"
   ]
  },
  {
   "cell_type": "code",
   "execution_count": 4,
   "id": "a49ab684",
   "metadata": {},
   "outputs": [],
   "source": [
    "email, signature = extract_signature(emails[0])"
   ]
  },
  {
   "cell_type": "code",
   "execution_count": 5,
   "id": "735f30af",
   "metadata": {},
   "outputs": [
    {
     "data": {
      "text/plain": [
       "\"Hi Jane,\\n\\nThank you for keeping me updated on this issue. I'm happy to hear that the issue got resolved after all and you can now use the app in its full functionality again. \\nAlso many thanks for your suggestions. We hope to improve this feature in the future. \\n\\nIn case you experience any further problems with the app, please don't hesitate to contact me again.\""
      ]
     },
     "execution_count": 5,
     "metadata": {},
     "output_type": "execute_result"
    }
   ],
   "source": [
    "email"
   ]
  },
  {
   "cell_type": "code",
   "execution_count": 6,
   "id": "2152665f",
   "metadata": {},
   "outputs": [
    {
     "data": {
      "text/plain": [
       "'Best regards,\\n\\nJohn Doe\\nCustomer Support\\n\\n1600 Amphitheatre Parkway\\nMountain View, CA\\nUnited States'"
      ]
     },
     "execution_count": 6,
     "metadata": {},
     "output_type": "execute_result"
    }
   ],
   "source": [
    "signature"
   ]
  },
  {
   "cell_type": "code",
   "execution_count": 7,
   "id": "7dae8304",
   "metadata": {},
   "outputs": [],
   "source": [
    "from langdetect import detect\n",
    "lang = detect(email) # lang = 'en' for an English email"
   ]
  },
  {
   "cell_type": "code",
   "execution_count": 8,
   "id": "352a1054",
   "metadata": {},
   "outputs": [
    {
     "data": {
      "text/plain": [
       "'en'"
      ]
     },
     "execution_count": 8,
     "metadata": {},
     "output_type": "execute_result"
    }
   ],
   "source": [
    "lang"
   ]
  },
  {
   "cell_type": "code",
   "execution_count": null,
   "id": "64eda93b",
   "metadata": {},
   "outputs": [],
   "source": []
  },
  {
   "cell_type": "code",
   "execution_count": 9,
   "id": "a13ec5b4",
   "metadata": {},
   "outputs": [],
   "source": [
    "# import nltk\n",
    "# nltk.download('punkt')"
   ]
  },
  {
   "cell_type": "code",
   "execution_count": 10,
   "id": "1081a031",
   "metadata": {},
   "outputs": [],
   "source": [
    "from nltk.tokenize import sent_tokenize"
   ]
  },
  {
   "cell_type": "code",
   "execution_count": 12,
   "id": "1fccd08c",
   "metadata": {},
   "outputs": [],
   "source": [
    "sentences = sent_tokenize(email, language = 'english')"
   ]
  },
  {
   "cell_type": "code",
   "execution_count": 13,
   "id": "f0894003",
   "metadata": {},
   "outputs": [
    {
     "data": {
      "text/plain": [
       "['Hi Jane,\\n\\nThank you for keeping me updated on this issue.',\n",
       " \"I'm happy to hear that the issue got resolved after all and you can now use the app in its full functionality again.\",\n",
       " 'Also many thanks for your suggestions.',\n",
       " 'We hope to improve this feature in the future.',\n",
       " \"In case you experience any further problems with the app, please don't hesitate to contact me again.\"]"
      ]
     },
     "execution_count": 13,
     "metadata": {},
     "output_type": "execute_result"
    }
   ],
   "source": [
    "sentences"
   ]
  },
  {
   "cell_type": "code",
   "execution_count": 14,
   "id": "42da7274",
   "metadata": {},
   "outputs": [],
   "source": [
    "app_listing = \"\"\"\n",
    "The Facebook Channel gives you all the tools you need to successfully sell and market across Facebook and Instagram. Discover new opportunities to help you scale and grow your business, and manage your Facebook and Instagram accounts and products from one place on Shopify.\n",
    "\n",
    "Advertise with free and paid ads\n",
    "Set up the Pixel and Conversions API to share data about what happens on your website with Meta to drive better ad performance and measurement.\n",
    "\n",
    "Sell from anywhere with the new Facebook Shops\n",
    "Give shoppers a new online shopping experience with a custom storefront that will showcase your shop’s story. Create a single shop for both Facebook and Instagram to sell your product and collections, and seamlessly manage your orders in Shopify. Your followers can automatically check out via your website or directly on the app (US only).\n",
    "\n",
    "Sell products with Instagram Shopping\n",
    "Give shoppers a new way to buy from your store by tagging products in your posts and Stories. Once you are approved for Instagram Shopping, all you have to do is connect your catalog from the mobile app. Your followers can now check out on your website or directly on the app (US only). Additionally, any products you tag will also show up in your shop tab that lets shoppers browse your shoppable posts — all in one place.\n",
    "\n",
    "Simple setup\n",
    "One-time account connection across Facebook and Instagram. Once you connect your accounts, all your Shopify products will automatically sync to your Facebook and Instagram catalog. Your catalog holds information about all the items you want to sell or market and is a requirement to sell with Instagram or Facebook Shops. Easily set up your Facebook pixel to better understand customer behavior and traffic, and to help create effective marketing campaigns.\n",
    "\"\"\""
   ]
  },
  {
   "cell_type": "code",
   "execution_count": 17,
   "id": "ba7d944d",
   "metadata": {},
   "outputs": [],
   "source": [
    "app_listing2 = sent_tokenize(app_listing.strip(), language = 'english')"
   ]
  },
  {
   "cell_type": "code",
   "execution_count": 18,
   "id": "d1e0cb6f",
   "metadata": {},
   "outputs": [
    {
     "data": {
      "text/plain": [
       "['The Facebook Channel gives you all the tools you need to successfully sell and market across Facebook and Instagram.',\n",
       " 'Discover new opportunities to help you scale and grow your business, and manage your Facebook and Instagram accounts and products from one place on Shopify.',\n",
       " 'Advertise with free and paid ads\\nSet up the Pixel and Conversions API to share data about what happens on your website with Meta to drive better ad performance and measurement.',\n",
       " 'Sell from anywhere with the new Facebook Shops\\nGive shoppers a new online shopping experience with a custom storefront that will showcase your shop’s story.',\n",
       " 'Create a single shop for both Facebook and Instagram to sell your product and collections, and seamlessly manage your orders in Shopify.',\n",
       " 'Your followers can automatically check out via your website or directly on the app (US only).',\n",
       " 'Sell products with Instagram Shopping\\nGive shoppers a new way to buy from your store by tagging products in your posts and Stories.',\n",
       " 'Once you are approved for Instagram Shopping, all you have to do is connect your catalog from the mobile app.',\n",
       " 'Your followers can now check out on your website or directly on the app (US only).',\n",
       " 'Additionally, any products you tag will also show up in your shop tab that lets shoppers browse your shoppable posts — all in one place.',\n",
       " 'Simple setup\\nOne-time account connection across Facebook and Instagram.',\n",
       " 'Once you connect your accounts, all your Shopify products will automatically sync to your Facebook and Instagram catalog.',\n",
       " 'Your catalog holds information about all the items you want to sell or market and is a requirement to sell with Instagram or Facebook Shops.',\n",
       " 'Easily set up your Facebook pixel to better understand customer behavior and traffic, and to help create effective marketing campaigns.']"
      ]
     },
     "execution_count": 18,
     "metadata": {},
     "output_type": "execute_result"
    }
   ],
   "source": [
    "app_listing2"
   ]
  },
  {
   "cell_type": "code",
   "execution_count": null,
   "id": "37f49ac5",
   "metadata": {},
   "outputs": [],
   "source": []
  }
 ],
 "metadata": {
  "kernelspec": {
   "display_name": "python3-text-summary",
   "language": "python",
   "name": "python3-text-summary"
  },
  "language_info": {
   "codemirror_mode": {
    "name": "ipython",
    "version": 3
   },
   "file_extension": ".py",
   "mimetype": "text/x-python",
   "name": "python",
   "nbconvert_exporter": "python",
   "pygments_lexer": "ipython3",
   "version": "3.9.13"
  }
 },
 "nbformat": 4,
 "nbformat_minor": 5
}
